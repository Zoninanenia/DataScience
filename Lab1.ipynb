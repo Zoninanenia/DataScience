{
 "cells": [
  {
   "cell_type": "code",
   "execution_count": 1,
   "id": "0078ff25-b3cf-407e-9e0b-f6d29dfce631",
   "metadata": {},
   "outputs": [],
   "source": [
    "import pandas as pd"
   ]
  },
  {
   "cell_type": "code",
   "execution_count": 4,
   "id": "2658c0f3-883e-47ca-a597-1191f147e967",
   "metadata": {},
   "outputs": [],
   "source": [
    "player_df = pd.read_csv('players.csv')"
   ]
  },
  {
   "cell_type": "code",
   "execution_count": 5,
   "id": "3a8d0854-b233-410f-8425-c903298013e4",
   "metadata": {},
   "outputs": [
    {
     "data": {
      "text/html": [
       "<div>\n",
       "<style scoped>\n",
       "    .dataframe tbody tr th:only-of-type {\n",
       "        vertical-align: middle;\n",
       "    }\n",
       "\n",
       "    .dataframe tbody tr th {\n",
       "        vertical-align: top;\n",
       "    }\n",
       "\n",
       "    .dataframe thead th {\n",
       "        text-align: right;\n",
       "    }\n",
       "</style>\n",
       "<table border=\"1\" class=\"dataframe\">\n",
       "  <thead>\n",
       "    <tr style=\"text-align: right;\">\n",
       "      <th></th>\n",
       "      <th>surname</th>\n",
       "      <th>team</th>\n",
       "      <th>position</th>\n",
       "      <th>minutes</th>\n",
       "      <th>shots</th>\n",
       "      <th>passes</th>\n",
       "      <th>tackles</th>\n",
       "      <th>saves</th>\n",
       "      <th>Unnamed: 8</th>\n",
       "      <th>Unnamed: 9</th>\n",
       "      <th>...</th>\n",
       "      <th>Unnamed: 16</th>\n",
       "      <th>Unnamed: 17</th>\n",
       "      <th>Unnamed: 18</th>\n",
       "      <th>Unnamed: 19</th>\n",
       "      <th>Unnamed: 20</th>\n",
       "      <th>Unnamed: 21</th>\n",
       "      <th>Unnamed: 22</th>\n",
       "      <th>Unnamed: 23</th>\n",
       "      <th>Unnamed: 24</th>\n",
       "      <th>Unnamed: 25</th>\n",
       "    </tr>\n",
       "  </thead>\n",
       "  <tbody>\n",
       "    <tr>\n",
       "      <th>0</th>\n",
       "      <td>Abdoun</td>\n",
       "      <td>Algeria</td>\n",
       "      <td>midfielder</td>\n",
       "      <td>16</td>\n",
       "      <td>0</td>\n",
       "      <td>6</td>\n",
       "      <td>0</td>\n",
       "      <td>0</td>\n",
       "      <td>NaN</td>\n",
       "      <td>NaN</td>\n",
       "      <td>...</td>\n",
       "      <td>NaN</td>\n",
       "      <td>NaN</td>\n",
       "      <td>NaN</td>\n",
       "      <td>NaN</td>\n",
       "      <td>NaN</td>\n",
       "      <td>NaN</td>\n",
       "      <td>NaN</td>\n",
       "      <td>NaN</td>\n",
       "      <td>NaN</td>\n",
       "      <td>NaN</td>\n",
       "    </tr>\n",
       "    <tr>\n",
       "      <th>1</th>\n",
       "      <td>Belhadj</td>\n",
       "      <td>Algeria</td>\n",
       "      <td>defender</td>\n",
       "      <td>270</td>\n",
       "      <td>1</td>\n",
       "      <td>146</td>\n",
       "      <td>8</td>\n",
       "      <td>0</td>\n",
       "      <td>NaN</td>\n",
       "      <td>NaN</td>\n",
       "      <td>...</td>\n",
       "      <td>NaN</td>\n",
       "      <td>NaN</td>\n",
       "      <td>NaN</td>\n",
       "      <td>NaN</td>\n",
       "      <td>NaN</td>\n",
       "      <td>NaN</td>\n",
       "      <td>NaN</td>\n",
       "      <td>NaN</td>\n",
       "      <td>NaN</td>\n",
       "      <td>NaN</td>\n",
       "    </tr>\n",
       "    <tr>\n",
       "      <th>2</th>\n",
       "      <td>Boudebouz</td>\n",
       "      <td>Algeria</td>\n",
       "      <td>midfielder</td>\n",
       "      <td>74</td>\n",
       "      <td>3</td>\n",
       "      <td>28</td>\n",
       "      <td>1</td>\n",
       "      <td>0</td>\n",
       "      <td>NaN</td>\n",
       "      <td>NaN</td>\n",
       "      <td>...</td>\n",
       "      <td>NaN</td>\n",
       "      <td>NaN</td>\n",
       "      <td>NaN</td>\n",
       "      <td>NaN</td>\n",
       "      <td>NaN</td>\n",
       "      <td>NaN</td>\n",
       "      <td>NaN</td>\n",
       "      <td>NaN</td>\n",
       "      <td>NaN</td>\n",
       "      <td>NaN</td>\n",
       "    </tr>\n",
       "    <tr>\n",
       "      <th>3</th>\n",
       "      <td>Bougherra</td>\n",
       "      <td>Algeria</td>\n",
       "      <td>defender</td>\n",
       "      <td>270</td>\n",
       "      <td>1</td>\n",
       "      <td>89</td>\n",
       "      <td>11</td>\n",
       "      <td>0</td>\n",
       "      <td>NaN</td>\n",
       "      <td>NaN</td>\n",
       "      <td>...</td>\n",
       "      <td>NaN</td>\n",
       "      <td>NaN</td>\n",
       "      <td>NaN</td>\n",
       "      <td>NaN</td>\n",
       "      <td>NaN</td>\n",
       "      <td>NaN</td>\n",
       "      <td>NaN</td>\n",
       "      <td>NaN</td>\n",
       "      <td>NaN</td>\n",
       "      <td>NaN</td>\n",
       "    </tr>\n",
       "    <tr>\n",
       "      <th>4</th>\n",
       "      <td>Chaouchi</td>\n",
       "      <td>Algeria</td>\n",
       "      <td>goalkeeper</td>\n",
       "      <td>90</td>\n",
       "      <td>0</td>\n",
       "      <td>17</td>\n",
       "      <td>0</td>\n",
       "      <td>2</td>\n",
       "      <td>NaN</td>\n",
       "      <td>NaN</td>\n",
       "      <td>...</td>\n",
       "      <td>NaN</td>\n",
       "      <td>NaN</td>\n",
       "      <td>NaN</td>\n",
       "      <td>NaN</td>\n",
       "      <td>NaN</td>\n",
       "      <td>NaN</td>\n",
       "      <td>NaN</td>\n",
       "      <td>NaN</td>\n",
       "      <td>NaN</td>\n",
       "      <td>NaN</td>\n",
       "    </tr>\n",
       "    <tr>\n",
       "      <th>...</th>\n",
       "      <td>...</td>\n",
       "      <td>...</td>\n",
       "      <td>...</td>\n",
       "      <td>...</td>\n",
       "      <td>...</td>\n",
       "      <td>...</td>\n",
       "      <td>...</td>\n",
       "      <td>...</td>\n",
       "      <td>...</td>\n",
       "      <td>...</td>\n",
       "      <td>...</td>\n",
       "      <td>...</td>\n",
       "      <td>...</td>\n",
       "      <td>...</td>\n",
       "      <td>...</td>\n",
       "      <td>...</td>\n",
       "      <td>...</td>\n",
       "      <td>...</td>\n",
       "      <td>...</td>\n",
       "      <td>...</td>\n",
       "      <td>...</td>\n",
       "    </tr>\n",
       "    <tr>\n",
       "      <th>590</th>\n",
       "      <td>Holden</td>\n",
       "      <td>USA</td>\n",
       "      <td>midfielder</td>\n",
       "      <td>4</td>\n",
       "      <td>0</td>\n",
       "      <td>2</td>\n",
       "      <td>0</td>\n",
       "      <td>0</td>\n",
       "      <td>NaN</td>\n",
       "      <td>NaN</td>\n",
       "      <td>...</td>\n",
       "      <td>NaN</td>\n",
       "      <td>NaN</td>\n",
       "      <td>NaN</td>\n",
       "      <td>NaN</td>\n",
       "      <td>NaN</td>\n",
       "      <td>NaN</td>\n",
       "      <td>NaN</td>\n",
       "      <td>NaN</td>\n",
       "      <td>NaN</td>\n",
       "      <td>NaN</td>\n",
       "    </tr>\n",
       "    <tr>\n",
       "      <th>591</th>\n",
       "      <td>Howard</td>\n",
       "      <td>USA</td>\n",
       "      <td>goalkeeper</td>\n",
       "      <td>390</td>\n",
       "      <td>0</td>\n",
       "      <td>81</td>\n",
       "      <td>0</td>\n",
       "      <td>14</td>\n",
       "      <td>NaN</td>\n",
       "      <td>NaN</td>\n",
       "      <td>...</td>\n",
       "      <td>NaN</td>\n",
       "      <td>NaN</td>\n",
       "      <td>NaN</td>\n",
       "      <td>NaN</td>\n",
       "      <td>NaN</td>\n",
       "      <td>NaN</td>\n",
       "      <td>NaN</td>\n",
       "      <td>NaN</td>\n",
       "      <td>NaN</td>\n",
       "      <td>NaN</td>\n",
       "    </tr>\n",
       "    <tr>\n",
       "      <th>592</th>\n",
       "      <td>Jozy Altidore</td>\n",
       "      <td>USA</td>\n",
       "      <td>forward</td>\n",
       "      <td>356</td>\n",
       "      <td>8</td>\n",
       "      <td>84</td>\n",
       "      <td>2</td>\n",
       "      <td>0</td>\n",
       "      <td>NaN</td>\n",
       "      <td>NaN</td>\n",
       "      <td>...</td>\n",
       "      <td>NaN</td>\n",
       "      <td>NaN</td>\n",
       "      <td>NaN</td>\n",
       "      <td>NaN</td>\n",
       "      <td>NaN</td>\n",
       "      <td>NaN</td>\n",
       "      <td>NaN</td>\n",
       "      <td>NaN</td>\n",
       "      <td>NaN</td>\n",
       "      <td>NaN</td>\n",
       "    </tr>\n",
       "    <tr>\n",
       "      <th>593</th>\n",
       "      <td>Onyewu</td>\n",
       "      <td>USA</td>\n",
       "      <td>defender</td>\n",
       "      <td>170</td>\n",
       "      <td>1</td>\n",
       "      <td>69</td>\n",
       "      <td>2</td>\n",
       "      <td>0</td>\n",
       "      <td>NaN</td>\n",
       "      <td>NaN</td>\n",
       "      <td>...</td>\n",
       "      <td>NaN</td>\n",
       "      <td>NaN</td>\n",
       "      <td>NaN</td>\n",
       "      <td>NaN</td>\n",
       "      <td>NaN</td>\n",
       "      <td>NaN</td>\n",
       "      <td>NaN</td>\n",
       "      <td>NaN</td>\n",
       "      <td>NaN</td>\n",
       "      <td>NaN</td>\n",
       "    </tr>\n",
       "    <tr>\n",
       "      <th>594</th>\n",
       "      <td>Torres</td>\n",
       "      <td>USA</td>\n",
       "      <td>midfielder</td>\n",
       "      <td>45</td>\n",
       "      <td>1</td>\n",
       "      <td>32</td>\n",
       "      <td>0</td>\n",
       "      <td>0</td>\n",
       "      <td>NaN</td>\n",
       "      <td>NaN</td>\n",
       "      <td>...</td>\n",
       "      <td>NaN</td>\n",
       "      <td>NaN</td>\n",
       "      <td>NaN</td>\n",
       "      <td>NaN</td>\n",
       "      <td>NaN</td>\n",
       "      <td>NaN</td>\n",
       "      <td>NaN</td>\n",
       "      <td>NaN</td>\n",
       "      <td>NaN</td>\n",
       "      <td>NaN</td>\n",
       "    </tr>\n",
       "  </tbody>\n",
       "</table>\n",
       "<p>595 rows × 26 columns</p>\n",
       "</div>"
      ],
      "text/plain": [
       "           surname     team    position  minutes  shots  passes  tackles  \\\n",
       "0           Abdoun  Algeria  midfielder       16      0       6        0   \n",
       "1          Belhadj  Algeria    defender      270      1     146        8   \n",
       "2        Boudebouz  Algeria  midfielder       74      3      28        1   \n",
       "3        Bougherra  Algeria    defender      270      1      89       11   \n",
       "4         Chaouchi  Algeria  goalkeeper       90      0      17        0   \n",
       "..             ...      ...         ...      ...    ...     ...      ...   \n",
       "590         Holden      USA  midfielder        4      0       2        0   \n",
       "591         Howard      USA  goalkeeper      390      0      81        0   \n",
       "592  Jozy Altidore      USA     forward      356      8      84        2   \n",
       "593         Onyewu      USA    defender      170      1      69        2   \n",
       "594         Torres      USA  midfielder       45      1      32        0   \n",
       "\n",
       "     saves  Unnamed: 8  Unnamed: 9  ...  Unnamed: 16  Unnamed: 17  \\\n",
       "0        0         NaN         NaN  ...          NaN          NaN   \n",
       "1        0         NaN         NaN  ...          NaN          NaN   \n",
       "2        0         NaN         NaN  ...          NaN          NaN   \n",
       "3        0         NaN         NaN  ...          NaN          NaN   \n",
       "4        2         NaN         NaN  ...          NaN          NaN   \n",
       "..     ...         ...         ...  ...          ...          ...   \n",
       "590      0         NaN         NaN  ...          NaN          NaN   \n",
       "591     14         NaN         NaN  ...          NaN          NaN   \n",
       "592      0         NaN         NaN  ...          NaN          NaN   \n",
       "593      0         NaN         NaN  ...          NaN          NaN   \n",
       "594      0         NaN         NaN  ...          NaN          NaN   \n",
       "\n",
       "     Unnamed: 18  Unnamed: 19  Unnamed: 20  Unnamed: 21  Unnamed: 22  \\\n",
       "0            NaN          NaN          NaN          NaN          NaN   \n",
       "1            NaN          NaN          NaN          NaN          NaN   \n",
       "2            NaN          NaN          NaN          NaN          NaN   \n",
       "3            NaN          NaN          NaN          NaN          NaN   \n",
       "4            NaN          NaN          NaN          NaN          NaN   \n",
       "..           ...          ...          ...          ...          ...   \n",
       "590          NaN          NaN          NaN          NaN          NaN   \n",
       "591          NaN          NaN          NaN          NaN          NaN   \n",
       "592          NaN          NaN          NaN          NaN          NaN   \n",
       "593          NaN          NaN          NaN          NaN          NaN   \n",
       "594          NaN          NaN          NaN          NaN          NaN   \n",
       "\n",
       "     Unnamed: 23  Unnamed: 24  Unnamed: 25  \n",
       "0            NaN          NaN          NaN  \n",
       "1            NaN          NaN          NaN  \n",
       "2            NaN          NaN          NaN  \n",
       "3            NaN          NaN          NaN  \n",
       "4            NaN          NaN          NaN  \n",
       "..           ...          ...          ...  \n",
       "590          NaN          NaN          NaN  \n",
       "591          NaN          NaN          NaN  \n",
       "592          NaN          NaN          NaN  \n",
       "593          NaN          NaN          NaN  \n",
       "594          NaN          NaN          NaN  \n",
       "\n",
       "[595 rows x 26 columns]"
      ]
     },
     "execution_count": 5,
     "metadata": {},
     "output_type": "execute_result"
    }
   ],
   "source": [
    "player_df"
   ]
  },
  {
   "cell_type": "code",
   "execution_count": 6,
   "id": "edbdf60d-d3e8-45ef-99d2-4a3642578721",
   "metadata": {},
   "outputs": [
    {
     "data": {
      "text/plain": [
       "pandas.core.frame.DataFrame"
      ]
     },
     "execution_count": 6,
     "metadata": {},
     "output_type": "execute_result"
    }
   ],
   "source": [
    "type(player_df)"
   ]
  },
  {
   "cell_type": "code",
   "execution_count": 8,
   "id": "20e14c06-7c41-43a1-9f0d-a463cb008bf6",
   "metadata": {},
   "outputs": [
    {
     "data": {
      "text/plain": [
       "595"
      ]
     },
     "execution_count": 8,
     "metadata": {},
     "output_type": "execute_result"
    }
   ],
   "source": [
    "player_df.shape[0] # ดูจำนวนแถว"
   ]
  },
  {
   "cell_type": "code",
   "execution_count": 9,
   "id": "ed6cc141-c5ad-4103-8ff8-96bd46b21057",
   "metadata": {},
   "outputs": [
    {
     "data": {
      "text/plain": [
       "26"
      ]
     },
     "execution_count": 9,
     "metadata": {},
     "output_type": "execute_result"
    }
   ],
   "source": [
    "player_df.shape[1] # ดูจำนวนคอลัม /แนวตั้งอ้ะ"
   ]
  },
  {
   "cell_type": "code",
   "execution_count": 10,
   "id": "d7976211-9aaa-4e01-8453-2c29ba7215cd",
   "metadata": {},
   "outputs": [
    {
     "data": {
      "text/plain": [
       "(595, 26)"
      ]
     },
     "execution_count": 10,
     "metadata": {},
     "output_type": "execute_result"
    }
   ],
   "source": [
    "player_df.shape"
   ]
  },
  {
   "cell_type": "code",
   "execution_count": 12,
   "id": "f860d467-8b9a-49ef-9eb3-9769c13e3508",
   "metadata": {},
   "outputs": [
    {
     "data": {
      "text/plain": [
       "Index(['surname', 'team', 'position', 'minutes', 'shots', 'passes', 'tackles',\n",
       "       'saves', 'Unnamed: 8', 'Unnamed: 9', 'Unnamed: 10', 'Unnamed: 11',\n",
       "       'Unnamed: 12', 'Unnamed: 13', 'Unnamed: 14', 'Unnamed: 15',\n",
       "       'Unnamed: 16', 'Unnamed: 17', 'Unnamed: 18', 'Unnamed: 19',\n",
       "       'Unnamed: 20', 'Unnamed: 21', 'Unnamed: 22', 'Unnamed: 23',\n",
       "       'Unnamed: 24', 'Unnamed: 25'],\n",
       "      dtype='object')"
      ]
     },
     "execution_count": 12,
     "metadata": {},
     "output_type": "execute_result"
    }
   ],
   "source": [
    "player_df.columns # ดูชื่อหัวข้อคอลัมทั้งหมด"
   ]
  },
  {
   "cell_type": "code",
   "execution_count": 13,
   "id": "d6a99b63-246a-45e6-9939-731eabd8d655",
   "metadata": {},
   "outputs": [
    {
     "data": {
      "text/plain": [
       "RangeIndex(start=0, stop=595, step=1)"
      ]
     },
     "execution_count": 13,
     "metadata": {},
     "output_type": "execute_result"
    }
   ],
   "source": [
    "player_df.index"
   ]
  },
  {
   "cell_type": "markdown",
   "id": "ae90a3be-f375-41f5-9ac2-e4ce40964912",
   "metadata": {},
   "source": [
    "<h1>Selection</h1>"
   ]
  },
  {
   "cell_type": "markdown",
   "id": "2cd93768-a067-4668-8952-1177bf4c72f5",
   "metadata": {},
   "source": [
    "* By Number"
   ]
  },
  {
   "cell_type": "code",
   "execution_count": 17,
   "id": "489cd7b3-7b66-42b7-8440-e3190b3039f7",
   "metadata": {},
   "outputs": [
    {
     "name": "stdout",
     "output_type": "stream",
     "text": [
      "74\n"
     ]
    }
   ],
   "source": [
    "print(player_df.iloc[2,3]) # ดูข้อมูลในตำแหน่งที่ [แถว, คอลัม]"
   ]
  },
  {
   "cell_type": "code",
   "execution_count": 18,
   "id": "b1b37636-508f-4b23-a31b-899e9dcb8b4c",
   "metadata": {},
   "outputs": [
    {
     "name": "stdout",
     "output_type": "stream",
     "text": [
      "     surname     team  position  shots  saves\n",
      "3  Bougherra  Algeria  defender      1      0\n",
      "5   Djebbour  Algeria   forward      3      0\n",
      "6    Ghezzal  Algeria   forward      3      0\n",
      "1    Belhadj  Algeria  defender      1      0\n"
     ]
    }
   ],
   "source": [
    "print(player_df.iloc[ [3, 5, 6, 1], [0, 1, 2, 4, 7] ]) # ดูข้อมูลในตำแหน่งแบบ list"
   ]
  },
  {
   "cell_type": "code",
   "execution_count": 19,
   "id": "51aae25e-cfb6-4a8a-9761-6d9d260e54db",
   "metadata": {},
   "outputs": [
    {
     "name": "stdout",
     "output_type": "stream",
     "text": [
      "     surname     team    position  minutes  shots\n",
      "2  Boudebouz  Algeria  midfielder       74      3\n",
      "3  Bougherra  Algeria    defender      270      1\n",
      "4   Chaouchi  Algeria  goalkeeper       90      0\n",
      "5   Djebbour  Algeria     forward      123      3\n"
     ]
    }
   ],
   "source": [
    "print(player_df.iloc[ 2:6 , 0:5 ]) # ดูแบบการใช้สไลด์ เริ่มแถว 2 จบ 5 เริ่มคอลัม 0 จบ 4"
   ]
  },
  {
   "cell_type": "code",
   "execution_count": 20,
   "id": "e751630d-f30e-4766-a640-1233a483ed29",
   "metadata": {},
   "outputs": [
    {
     "name": "stdout",
     "output_type": "stream",
     "text": [
      "     surname     team    position  minutes  shots  passes  tackles  saves\n",
      "0     Abdoun  Algeria  midfielder       16      0       6        0      0\n",
      "2  Boudebouz  Algeria  midfielder       74      3      28        1      0\n",
      "4   Chaouchi  Algeria  goalkeeper       90      0      17        0      2\n",
      "6    Ghezzal  Algeria     forward       40      3       8        0      0\n",
      "8   Halliche  Algeria    defender      270      2      94        4      0\n"
     ]
    }
   ],
   "source": [
    "print(player_df.iloc[ 0:10:2 , :8 ]) # ดูแบบการใช้สไลด์ เริ่มแถว 0 เพิ่มทีละ 2 จบ 9 เริ่มคอลัมแรกถึง 7"
   ]
  },
  {
   "cell_type": "markdown",
   "id": "be1db1c8-9946-4949-8fa0-a7de55c72308",
   "metadata": {},
   "source": [
    "# Clean CSV "
   ]
  },
  {
   "cell_type": "code",
   "execution_count": 22,
   "id": "3480dccb-4fe5-428f-9778-59db43671056",
   "metadata": {},
   "outputs": [],
   "source": [
    "player_df = player_df.iloc[: , :8] # เคลียร์ค่า NaN"
   ]
  },
  {
   "cell_type": "code",
   "execution_count": 23,
   "id": "91d28021-344b-43fe-a340-cbeec2ee4439",
   "metadata": {},
   "outputs": [
    {
     "data": {
      "text/html": [
       "<div>\n",
       "<style scoped>\n",
       "    .dataframe tbody tr th:only-of-type {\n",
       "        vertical-align: middle;\n",
       "    }\n",
       "\n",
       "    .dataframe tbody tr th {\n",
       "        vertical-align: top;\n",
       "    }\n",
       "\n",
       "    .dataframe thead th {\n",
       "        text-align: right;\n",
       "    }\n",
       "</style>\n",
       "<table border=\"1\" class=\"dataframe\">\n",
       "  <thead>\n",
       "    <tr style=\"text-align: right;\">\n",
       "      <th></th>\n",
       "      <th>surname</th>\n",
       "      <th>team</th>\n",
       "      <th>position</th>\n",
       "      <th>minutes</th>\n",
       "      <th>shots</th>\n",
       "      <th>passes</th>\n",
       "      <th>tackles</th>\n",
       "      <th>saves</th>\n",
       "    </tr>\n",
       "  </thead>\n",
       "  <tbody>\n",
       "    <tr>\n",
       "      <th>0</th>\n",
       "      <td>Abdoun</td>\n",
       "      <td>Algeria</td>\n",
       "      <td>midfielder</td>\n",
       "      <td>16</td>\n",
       "      <td>0</td>\n",
       "      <td>6</td>\n",
       "      <td>0</td>\n",
       "      <td>0</td>\n",
       "    </tr>\n",
       "    <tr>\n",
       "      <th>1</th>\n",
       "      <td>Belhadj</td>\n",
       "      <td>Algeria</td>\n",
       "      <td>defender</td>\n",
       "      <td>270</td>\n",
       "      <td>1</td>\n",
       "      <td>146</td>\n",
       "      <td>8</td>\n",
       "      <td>0</td>\n",
       "    </tr>\n",
       "    <tr>\n",
       "      <th>2</th>\n",
       "      <td>Boudebouz</td>\n",
       "      <td>Algeria</td>\n",
       "      <td>midfielder</td>\n",
       "      <td>74</td>\n",
       "      <td>3</td>\n",
       "      <td>28</td>\n",
       "      <td>1</td>\n",
       "      <td>0</td>\n",
       "    </tr>\n",
       "    <tr>\n",
       "      <th>3</th>\n",
       "      <td>Bougherra</td>\n",
       "      <td>Algeria</td>\n",
       "      <td>defender</td>\n",
       "      <td>270</td>\n",
       "      <td>1</td>\n",
       "      <td>89</td>\n",
       "      <td>11</td>\n",
       "      <td>0</td>\n",
       "    </tr>\n",
       "    <tr>\n",
       "      <th>4</th>\n",
       "      <td>Chaouchi</td>\n",
       "      <td>Algeria</td>\n",
       "      <td>goalkeeper</td>\n",
       "      <td>90</td>\n",
       "      <td>0</td>\n",
       "      <td>17</td>\n",
       "      <td>0</td>\n",
       "      <td>2</td>\n",
       "    </tr>\n",
       "    <tr>\n",
       "      <th>...</th>\n",
       "      <td>...</td>\n",
       "      <td>...</td>\n",
       "      <td>...</td>\n",
       "      <td>...</td>\n",
       "      <td>...</td>\n",
       "      <td>...</td>\n",
       "      <td>...</td>\n",
       "      <td>...</td>\n",
       "    </tr>\n",
       "    <tr>\n",
       "      <th>590</th>\n",
       "      <td>Holden</td>\n",
       "      <td>USA</td>\n",
       "      <td>midfielder</td>\n",
       "      <td>4</td>\n",
       "      <td>0</td>\n",
       "      <td>2</td>\n",
       "      <td>0</td>\n",
       "      <td>0</td>\n",
       "    </tr>\n",
       "    <tr>\n",
       "      <th>591</th>\n",
       "      <td>Howard</td>\n",
       "      <td>USA</td>\n",
       "      <td>goalkeeper</td>\n",
       "      <td>390</td>\n",
       "      <td>0</td>\n",
       "      <td>81</td>\n",
       "      <td>0</td>\n",
       "      <td>14</td>\n",
       "    </tr>\n",
       "    <tr>\n",
       "      <th>592</th>\n",
       "      <td>Jozy Altidore</td>\n",
       "      <td>USA</td>\n",
       "      <td>forward</td>\n",
       "      <td>356</td>\n",
       "      <td>8</td>\n",
       "      <td>84</td>\n",
       "      <td>2</td>\n",
       "      <td>0</td>\n",
       "    </tr>\n",
       "    <tr>\n",
       "      <th>593</th>\n",
       "      <td>Onyewu</td>\n",
       "      <td>USA</td>\n",
       "      <td>defender</td>\n",
       "      <td>170</td>\n",
       "      <td>1</td>\n",
       "      <td>69</td>\n",
       "      <td>2</td>\n",
       "      <td>0</td>\n",
       "    </tr>\n",
       "    <tr>\n",
       "      <th>594</th>\n",
       "      <td>Torres</td>\n",
       "      <td>USA</td>\n",
       "      <td>midfielder</td>\n",
       "      <td>45</td>\n",
       "      <td>1</td>\n",
       "      <td>32</td>\n",
       "      <td>0</td>\n",
       "      <td>0</td>\n",
       "    </tr>\n",
       "  </tbody>\n",
       "</table>\n",
       "<p>595 rows × 8 columns</p>\n",
       "</div>"
      ],
      "text/plain": [
       "           surname     team    position  minutes  shots  passes  tackles  \\\n",
       "0           Abdoun  Algeria  midfielder       16      0       6        0   \n",
       "1          Belhadj  Algeria    defender      270      1     146        8   \n",
       "2        Boudebouz  Algeria  midfielder       74      3      28        1   \n",
       "3        Bougherra  Algeria    defender      270      1      89       11   \n",
       "4         Chaouchi  Algeria  goalkeeper       90      0      17        0   \n",
       "..             ...      ...         ...      ...    ...     ...      ...   \n",
       "590         Holden      USA  midfielder        4      0       2        0   \n",
       "591         Howard      USA  goalkeeper      390      0      81        0   \n",
       "592  Jozy Altidore      USA     forward      356      8      84        2   \n",
       "593         Onyewu      USA    defender      170      1      69        2   \n",
       "594         Torres      USA  midfielder       45      1      32        0   \n",
       "\n",
       "     saves  \n",
       "0        0  \n",
       "1        0  \n",
       "2        0  \n",
       "3        0  \n",
       "4        2  \n",
       "..     ...  \n",
       "590      0  \n",
       "591     14  \n",
       "592      0  \n",
       "593      0  \n",
       "594      0  \n",
       "\n",
       "[595 rows x 8 columns]"
      ]
     },
     "execution_count": 23,
     "metadata": {},
     "output_type": "execute_result"
    }
   ],
   "source": [
    "player_df"
   ]
  },
  {
   "cell_type": "code",
   "execution_count": 25,
   "id": "c9700793-d4e0-44f3-b969-517c325ef3c0",
   "metadata": {},
   "outputs": [
    {
     "name": "stdout",
     "output_type": "stream",
     "text": [
      "<class 'pandas.core.frame.DataFrame'>\n",
      "RangeIndex: 595 entries, 0 to 594\n",
      "Data columns (total 8 columns):\n",
      " #   Column    Non-Null Count  Dtype \n",
      "---  ------    --------------  ----- \n",
      " 0   surname   595 non-null    object\n",
      " 1   team      595 non-null    object\n",
      " 2   position  595 non-null    object\n",
      " 3   minutes   595 non-null    int64 \n",
      " 4   shots     595 non-null    int64 \n",
      " 5   passes    595 non-null    int64 \n",
      " 6   tackles   595 non-null    int64 \n",
      " 7   saves     595 non-null    int64 \n",
      "dtypes: int64(5), object(3)\n",
      "memory usage: 37.3+ KB\n"
     ]
    }
   ],
   "source": [
    "player_df.info()"
   ]
  },
  {
   "cell_type": "code",
   "execution_count": null,
   "id": "8fb29d76-2b1e-4fb9-bbeb-7defe86763b3",
   "metadata": {},
   "outputs": [],
   "source": []
  }
 ],
 "metadata": {
  "kernelspec": {
   "display_name": "Python 3 (ipykernel)",
   "language": "python",
   "name": "python3"
  },
  "language_info": {
   "codemirror_mode": {
    "name": "ipython",
    "version": 3
   },
   "file_extension": ".py",
   "mimetype": "text/x-python",
   "name": "python",
   "nbconvert_exporter": "python",
   "pygments_lexer": "ipython3",
   "version": "3.12.7"
  }
 },
 "nbformat": 4,
 "nbformat_minor": 5
}
